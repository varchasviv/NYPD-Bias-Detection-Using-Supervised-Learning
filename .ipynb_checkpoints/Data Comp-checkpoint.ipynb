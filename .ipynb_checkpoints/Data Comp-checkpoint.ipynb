{
 "cells": [
  {
   "cell_type": "code",
   "execution_count": 2,
   "metadata": {},
   "outputs": [],
   "source": [
    "import pandas as pd"
   ]
  },
  {
   "cell_type": "code",
   "execution_count": 3,
   "metadata": {},
   "outputs": [],
   "source": [
    "nypd = pd.read_csv(\"NYPD_Arrests_Data__Historic_.csv\")"
   ]
  },
  {
   "cell_type": "code",
   "execution_count": 16,
   "metadata": {},
   "outputs": [
    {
     "data": {
      "text/plain": [
       "BLACK                             2330925\n",
       "WHITE HISPANIC                    1249880\n",
       "WHITE                              579414\n",
       "BLACK HISPANIC                     384279\n",
       "ASIAN / PACIFIC ISLANDER           193101\n",
       "UNKNOWN                             48924\n",
       "AMERICAN INDIAN/ALASKAN NATIVE      10453\n",
       "OTHER                                1363\n",
       "Name: PERP_RACE, dtype: int64"
      ]
     },
     "execution_count": 16,
     "metadata": {},
     "output_type": "execute_result"
    }
   ],
   "source": [
    "nypd[\"PERP_RACE\"].value_counts()"
   ]
  },
  {
   "cell_type": "code",
   "execution_count": 14,
   "metadata": {},
   "outputs": [],
   "source": [
    "black = nypd.loc[nypd.PERP_RACE==\"BLACK\"]"
   ]
  },
  {
   "cell_type": "code",
   "execution_count": 15,
   "metadata": {
    "scrolled": true
   },
   "outputs": [
    {
     "data": {
      "text/html": [
       "<div>\n",
       "<style scoped>\n",
       "    .dataframe tbody tr th:only-of-type {\n",
       "        vertical-align: middle;\n",
       "    }\n",
       "\n",
       "    .dataframe tbody tr th {\n",
       "        vertical-align: top;\n",
       "    }\n",
       "\n",
       "    .dataframe thead th {\n",
       "        text-align: right;\n",
       "    }\n",
       "</style>\n",
       "<table border=\"1\" class=\"dataframe\">\n",
       "  <thead>\n",
       "    <tr style=\"text-align: right;\">\n",
       "      <th></th>\n",
       "      <th>ARREST_KEY</th>\n",
       "      <th>ARREST_DATE</th>\n",
       "      <th>PD_CD</th>\n",
       "      <th>PD_DESC</th>\n",
       "      <th>KY_CD</th>\n",
       "      <th>OFNS_DESC</th>\n",
       "      <th>LAW_CODE</th>\n",
       "      <th>LAW_CAT_CD</th>\n",
       "      <th>ARREST_BORO</th>\n",
       "      <th>ARREST_PRECINCT</th>\n",
       "      <th>JURISDICTION_CODE</th>\n",
       "      <th>AGE_GROUP</th>\n",
       "      <th>PERP_SEX</th>\n",
       "      <th>PERP_RACE</th>\n",
       "      <th>X_COORD_CD</th>\n",
       "      <th>Y_COORD_CD</th>\n",
       "      <th>Latitude</th>\n",
       "      <th>Longitude</th>\n",
       "    </tr>\n",
       "  </thead>\n",
       "  <tbody>\n",
       "    <tr>\n",
       "      <th>0</th>\n",
       "      <td>173130602</td>\n",
       "      <td>12/31/2017</td>\n",
       "      <td>566.0</td>\n",
       "      <td>MARIJUANA, POSSESSION</td>\n",
       "      <td>678.0</td>\n",
       "      <td>MISCELLANEOUS PENAL LAW</td>\n",
       "      <td>PL 2210500</td>\n",
       "      <td>V</td>\n",
       "      <td>Q</td>\n",
       "      <td>105</td>\n",
       "      <td>0.0</td>\n",
       "      <td>25-44</td>\n",
       "      <td>M</td>\n",
       "      <td>BLACK</td>\n",
       "      <td>1063056.0</td>\n",
       "      <td>207463.0</td>\n",
       "      <td>40.735772</td>\n",
       "      <td>-73.715638</td>\n",
       "    </tr>\n",
       "    <tr>\n",
       "      <th>2</th>\n",
       "      <td>173113513</td>\n",
       "      <td>12/31/2017</td>\n",
       "      <td>849.0</td>\n",
       "      <td>NY STATE LAWS,UNCLASSIFIED VIOLATION</td>\n",
       "      <td>677.0</td>\n",
       "      <td>OTHER STATE LAWS</td>\n",
       "      <td>LOC000000V</td>\n",
       "      <td>V</td>\n",
       "      <td>K</td>\n",
       "      <td>73</td>\n",
       "      <td>1.0</td>\n",
       "      <td>18-24</td>\n",
       "      <td>M</td>\n",
       "      <td>BLACK</td>\n",
       "      <td>1010719.0</td>\n",
       "      <td>186857.0</td>\n",
       "      <td>40.679525</td>\n",
       "      <td>-73.904572</td>\n",
       "    </tr>\n",
       "    <tr>\n",
       "      <th>4</th>\n",
       "      <td>173113421</td>\n",
       "      <td>12/31/2017</td>\n",
       "      <td>101.0</td>\n",
       "      <td>ASSAULT 3</td>\n",
       "      <td>344.0</td>\n",
       "      <td>ASSAULT 3 &amp; RELATED OFFENSES</td>\n",
       "      <td>PL 1200001</td>\n",
       "      <td>M</td>\n",
       "      <td>M</td>\n",
       "      <td>18</td>\n",
       "      <td>0.0</td>\n",
       "      <td>45-64</td>\n",
       "      <td>M</td>\n",
       "      <td>BLACK</td>\n",
       "      <td>987073.0</td>\n",
       "      <td>216078.0</td>\n",
       "      <td>40.759768</td>\n",
       "      <td>-73.989811</td>\n",
       "    </tr>\n",
       "    <tr>\n",
       "      <th>5</th>\n",
       "      <td>173130583</td>\n",
       "      <td>12/31/2017</td>\n",
       "      <td>397.0</td>\n",
       "      <td>ROBBERY,UNCLASSIFIED,OPEN AREAS</td>\n",
       "      <td>105.0</td>\n",
       "      <td>ROBBERY</td>\n",
       "      <td>PL 1601001</td>\n",
       "      <td>F</td>\n",
       "      <td>K</td>\n",
       "      <td>73</td>\n",
       "      <td>0.0</td>\n",
       "      <td>18-24</td>\n",
       "      <td>M</td>\n",
       "      <td>BLACK</td>\n",
       "      <td>1007524.0</td>\n",
       "      <td>188555.0</td>\n",
       "      <td>40.684194</td>\n",
       "      <td>-73.916085</td>\n",
       "    </tr>\n",
       "    <tr>\n",
       "      <th>7</th>\n",
       "      <td>173128438</td>\n",
       "      <td>12/31/2017</td>\n",
       "      <td>511.0</td>\n",
       "      <td>CONTROLLED SUBSTANCE, POSSESSION 7</td>\n",
       "      <td>235.0</td>\n",
       "      <td>DANGEROUS DRUGS</td>\n",
       "      <td>PL 2200300</td>\n",
       "      <td>M</td>\n",
       "      <td>M</td>\n",
       "      <td>25</td>\n",
       "      <td>0.0</td>\n",
       "      <td>25-44</td>\n",
       "      <td>M</td>\n",
       "      <td>BLACK</td>\n",
       "      <td>999724.0</td>\n",
       "      <td>230625.0</td>\n",
       "      <td>40.799683</td>\n",
       "      <td>-73.944112</td>\n",
       "    </tr>\n",
       "  </tbody>\n",
       "</table>\n",
       "</div>"
      ],
      "text/plain": [
       "   ARREST_KEY ARREST_DATE  PD_CD                               PD_DESC  KY_CD  \\\n",
       "0   173130602  12/31/2017  566.0                 MARIJUANA, POSSESSION  678.0   \n",
       "2   173113513  12/31/2017  849.0  NY STATE LAWS,UNCLASSIFIED VIOLATION  677.0   \n",
       "4   173113421  12/31/2017  101.0                             ASSAULT 3  344.0   \n",
       "5   173130583  12/31/2017  397.0       ROBBERY,UNCLASSIFIED,OPEN AREAS  105.0   \n",
       "7   173128438  12/31/2017  511.0    CONTROLLED SUBSTANCE, POSSESSION 7  235.0   \n",
       "\n",
       "                      OFNS_DESC    LAW_CODE LAW_CAT_CD ARREST_BORO  \\\n",
       "0       MISCELLANEOUS PENAL LAW  PL 2210500          V           Q   \n",
       "2              OTHER STATE LAWS  LOC000000V          V           K   \n",
       "4  ASSAULT 3 & RELATED OFFENSES  PL 1200001          M           M   \n",
       "5                       ROBBERY  PL 1601001          F           K   \n",
       "7               DANGEROUS DRUGS  PL 2200300          M           M   \n",
       "\n",
       "   ARREST_PRECINCT  JURISDICTION_CODE AGE_GROUP PERP_SEX PERP_RACE  \\\n",
       "0              105                0.0     25-44        M     BLACK   \n",
       "2               73                1.0     18-24        M     BLACK   \n",
       "4               18                0.0     45-64        M     BLACK   \n",
       "5               73                0.0     18-24        M     BLACK   \n",
       "7               25                0.0     25-44        M     BLACK   \n",
       "\n",
       "   X_COORD_CD  Y_COORD_CD   Latitude  Longitude  \n",
       "0   1063056.0    207463.0  40.735772 -73.715638  \n",
       "2   1010719.0    186857.0  40.679525 -73.904572  \n",
       "4    987073.0    216078.0  40.759768 -73.989811  \n",
       "5   1007524.0    188555.0  40.684194 -73.916085  \n",
       "7    999724.0    230625.0  40.799683 -73.944112  "
      ]
     },
     "execution_count": 15,
     "metadata": {},
     "output_type": "execute_result"
    }
   ],
   "source": [
    "black.head()"
   ]
  },
  {
   "cell_type": "markdown",
   "metadata": {},
   "source": []
  },
  {
   "cell_type": "code",
   "execution_count": 22,
   "metadata": {},
   "outputs": [
    {
     "data": {
      "text/plain": [
       "1957"
      ]
     },
     "execution_count": 22,
     "metadata": {},
     "output_type": "execute_result"
    }
   ],
   "source": [
    "len(black.LAW_CODE.unique())"
   ]
  },
  {
   "cell_type": "code",
   "execution_count": 24,
   "metadata": {},
   "outputs": [],
   "source": [
    "from sklearn.model_selection import train_test_split\n",
    "\n",
    "X=black[['PD_DESC', 'LAW_CODE', 'AGE_GROUP', 'ARREST_BORO', 'PERP_SEX']]  # Features\n",
    "y=black['LAW_CAT_CD'] \n",
    "\n",
    "X_train, X_test, y_train, y_test = train_test_split(X, y, test_size=0.3)"
   ]
  },
  {
   "cell_type": "code",
   "execution_count": 1,
   "metadata": {},
   "outputs": [],
   "source": [
    "# Won't work, as predictors are categorical\n",
    "\n",
    "# from sklearn.ensemble import RandomForestClassifier\n",
    "\n",
    "# #Create a Gaussian Classifier\n",
    "# clf=RandomForestClassifier(n_estimators=100)\n",
    "\n",
    "# #Train the model using the training sets y_pred=clf.predict(X_test)\n",
    "# clf.fit(X_train,y_train)\n",
    "\n",
    "# y_pred=clf.predict(X_test)"
   ]
  },
  {
   "cell_type": "code",
   "execution_count": null,
   "metadata": {},
   "outputs": [],
   "source": []
  }
 ],
 "metadata": {
  "kernelspec": {
   "display_name": "Python 3",
   "language": "python",
   "name": "python3"
  },
  "language_info": {
   "codemirror_mode": {
    "name": "ipython",
    "version": 3
   },
   "file_extension": ".py",
   "mimetype": "text/x-python",
   "name": "python",
   "nbconvert_exporter": "python",
   "pygments_lexer": "ipython3",
   "version": "3.7.1"
  }
 },
 "nbformat": 4,
 "nbformat_minor": 2
}
